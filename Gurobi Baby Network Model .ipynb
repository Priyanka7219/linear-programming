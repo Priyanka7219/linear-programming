{
 "cells": [
  {
   "cell_type": "code",
   "execution_count": null,
   "id": "198590b0",
   "metadata": {
    "scrolled": true
   },
   "outputs": [],
   "source": [
    "# %pip install gurobipy"
   ]
  },
  {
   "cell_type": "code",
   "execution_count": 1,
   "id": "e6b2bc0e",
   "metadata": {},
   "outputs": [],
   "source": [
    "import pandas as pd\n",
    "import gurobipy as gp\n",
    "from gurobipy import GRB"
   ]
  },
  {
   "cell_type": "code",
   "execution_count": 2,
   "id": "fed3baa9",
   "metadata": {},
   "outputs": [],
   "source": [
    "# Resource and job sets\n",
    "surplus = ['Settle', 'San Francisco']\n",
    "deficit = ['Boise','Salt Lake', 'Los Angeles']\n",
    "weight_lb = 1\n",
    "selling_price_usd = 40\n"
   ]
  },
  {
   "cell_type": "code",
   "execution_count": 3,
   "id": "318104d5",
   "metadata": {},
   "outputs": [],
   "source": [
    "supply = dict({'Seattle': 30.0,\n",
    "               'San Francisco': 10.0})\n",
    "\n",
    "demand = dict({'Boise': 5.0,\n",
    "               'Salt Lake': 25.0 ,\n",
    "               'Los Angeles': 40.0})\n"
   ]
  },
  {
   "cell_type": "code",
   "execution_count": 4,
   "id": "eac23cd3",
   "metadata": {},
   "outputs": [
    {
     "data": {
      "text/plain": [
       "{'Seattle': 30.0, 'San Francisco': 10.0}"
      ]
     },
     "execution_count": 4,
     "metadata": {},
     "output_type": "execute_result"
    }
   ],
   "source": [
    "supply"
   ]
  },
  {
   "cell_type": "code",
   "execution_count": 5,
   "id": "ed43b7a6",
   "metadata": {},
   "outputs": [
    {
     "data": {
      "text/plain": [
       "{'Boise': 5.0, 'Salt Lake': 25.0, 'Los Angeles': 40.0}"
      ]
     },
     "execution_count": 5,
     "metadata": {},
     "output_type": "execute_result"
    }
   ],
   "source": [
    "demand"
   ]
  },
  {
   "cell_type": "code",
   "execution_count": 6,
   "id": "5fc09e4c",
   "metadata": {},
   "outputs": [],
   "source": [
    "# 1: Original Cost\n",
    "# cost of shipping 1 lb package from A to B\n",
    "units, cost = gp.multidict({\n",
    "    ('Seattle', 'Boise'): 10.65,\n",
    "    ('Seattle', 'Salt Lake'): 10.65,\n",
    "    ('Seattle', 'Los Angeles'): 11.13,\n",
    "    ('San Francisco', 'Boise'): 10.65,\n",
    "    ('San Francisco', 'Salt Lake'):10.65,\n",
    "    ('San Francisco', 'Los Angeles'): 10.65\n",
    "})"
   ]
  },
  {
   "cell_type": "code",
   "execution_count": 23,
   "id": "8cb94ad6",
   "metadata": {},
   "outputs": [],
   "source": [
    "# 2: Small Cost Change (Made LA and Salt Lake city expensive)\n",
    "# # cost of shipping 1 lb package from A to B\n",
    "units, cost2 = gp.multidict({\n",
    "    ('Seattle', 'Boise'): 5,\n",
    "    ('Seattle', 'Salt Lake'): 15,\n",
    "    ('Seattle', 'Los Angeles'): 15,\n",
    "    ('San Francisco', 'Boise'): 5,\n",
    "    ('San Francisco', 'Salt Lake'):15,\n",
    "    ('San Francisco', 'Los Angeles'): 15\n",
    "})"
   ]
  },
  {
   "cell_type": "code",
   "execution_count": null,
   "id": "e1f57083",
   "metadata": {},
   "outputs": [],
   "source": [
    "# 3: Radical Cost Change \n",
    "# cost of shipping 1 lb package from A to B\n",
    "units, cost3 = gp.multidict({\n",
    "    ('Seattle', 'Boise'): 5,\n",
    "    ('Seattle', 'Salt Lake'): 10.65,\n",
    "    ('Seattle', 'Los Angeles'): 200,\n",
    "    ('San Francisco', 'Boise'): 0,\n",
    "    ('San Francisco', 'Salt Lake'): 0,\n",
    "    ('San Francisco', 'Los Angeles'): 100 \n",
    "})"
   ]
  },
  {
   "cell_type": "code",
   "execution_count": 7,
   "id": "19733fa4",
   "metadata": {},
   "outputs": [],
   "source": [
    "# revenue from shipping 1 lb jeans product from A to B \n",
    "# Assuming a constant\n",
    "units, revenue = gp.multidict({\n",
    "    ('Seattle', 'Boise'): 40.0,\n",
    "    ('Seattle', 'Salt Lake'): 40.0,\n",
    "    ('Seattle', 'Los Angeles'): 40.0,\n",
    "    ('San Francisco', 'Boise'): 40.0,\n",
    "    ('San Francisco', 'Salt Lake'): 40.0,\n",
    "    ('San Francisco', 'Los Angeles'): 40.0\n",
    "})"
   ]
  },
  {
   "cell_type": "code",
   "execution_count": 8,
   "id": "ee663843",
   "metadata": {},
   "outputs": [],
   "source": [
    "# distance dict\n",
    "units, distance = gp.multidict( {\n",
    "    ('Seattle', 'Boise'): 404.33,\n",
    "    ('Seattle', 'Salt Lake'): 699.8,\n",
    "    ('Seattle', 'Los Angeles'): 959.92,\n",
    "    ('San Francisco', 'Boise'): 517.95,\n",
    "    ('San Francisco', 'Salt Lake'): 599.22,\n",
    "    ('San Francisco', 'Los Angeles'): 347.58})\n"
   ]
  },
  {
   "cell_type": "markdown",
   "id": "e3ddfdb8",
   "metadata": {},
   "source": [
    "# Decision Variables"
   ]
  },
  {
   "cell_type": "code",
   "execution_count": 24,
   "id": "92428fdc",
   "metadata": {},
   "outputs": [
    {
     "data": {
      "text/plain": [
       "{('Seattle', 'Boise'): <gurobi.Var *Awaiting Model Update*>,\n",
       " ('Seattle', 'Salt Lake'): <gurobi.Var *Awaiting Model Update*>,\n",
       " ('Seattle', 'Los Angeles'): <gurobi.Var *Awaiting Model Update*>,\n",
       " ('San Francisco', 'Boise'): <gurobi.Var *Awaiting Model Update*>,\n",
       " ('San Francisco', 'Salt Lake'): <gurobi.Var *Awaiting Model Update*>,\n",
       " ('San Francisco', 'Los Angeles'): <gurobi.Var *Awaiting Model Update*>}"
      ]
     },
     "execution_count": 24,
     "metadata": {},
     "output_type": "execute_result"
    }
   ],
   "source": [
    "model = gp.Model('BabyGurobiModel1')\n",
    "transfer = model.addVars(units, name=\"transfer\")\n",
    "transfer"
   ]
  },
  {
   "cell_type": "markdown",
   "id": "9270c457",
   "metadata": {},
   "source": [
    "# Constraints"
   ]
  },
  {
   "cell_type": "code",
   "execution_count": 25,
   "id": "b5e83e74",
   "metadata": {},
   "outputs": [],
   "source": [
    "supply_constraints = model.addConstrs((gp.quicksum(transfer.select(city, '*')) <= supply[city] for city in supply),\n",
    "                                      name=\"supply_const\")"
   ]
  },
  {
   "cell_type": "code",
   "execution_count": 26,
   "id": "8d3ee6dd",
   "metadata": {},
   "outputs": [],
   "source": [
    "demand_constraints = model.addConstrs((gp.quicksum(transfer.select('*', city)) <= demand[city] for city in demand), \n",
    "                                      name = \"demand_const\")"
   ]
  },
  {
   "cell_type": "markdown",
   "id": "a3f499db",
   "metadata": {},
   "source": [
    "# Objective Function"
   ]
  },
  {
   "cell_type": "markdown",
   "id": "6961e1e0",
   "metadata": {},
   "source": [
    "Using Cost 1"
   ]
  },
  {
   "cell_type": "code",
   "execution_count": 12,
   "id": "3b62603d",
   "metadata": {},
   "outputs": [
    {
     "name": "stdout",
     "output_type": "stream",
     "text": [
      "Gurobi Optimizer version 10.0.0 build v10.0.0rc2 (win64)\n",
      "\n",
      "CPU model: AMD Ryzen 7 5800U with Radeon Graphics, instruction set [SSE2|AVX|AVX2]\n",
      "Thread count: 8 physical cores, 16 logical processors, using up to 16 threads\n",
      "\n",
      "Optimize a model with 5 rows, 6 columns and 12 nonzeros\n",
      "Model fingerprint: 0x3006f87d\n",
      "Coefficient statistics:\n",
      "  Matrix range     [1e+00, 1e+00]\n",
      "  Objective range  [3e+01, 3e+01]\n",
      "  Bounds range     [0e+00, 0e+00]\n",
      "  RHS range        [5e+00, 4e+01]\n",
      "Presolve time: 0.00s\n",
      "Presolved: 5 rows, 6 columns, 12 nonzeros\n",
      "\n",
      "Iteration    Objective       Primal Inf.    Dual Inf.      Time\n",
      "       0    1.7562000e+32   1.200000e+31   1.756200e+02      0s\n",
      "       3    1.1740000e+03   0.000000e+00   0.000000e+00      0s\n",
      "\n",
      "Solved in 3 iterations and 0.00 seconds (0.00 work units)\n",
      "Optimal objective  1.174000000e+03\n"
     ]
    }
   ],
   "source": [
    "# Maximise profit (revenue - cost(shipping cost from s to d))\n",
    "model.setObjective((transfer.prod(revenue) - transfer.prod(cost)), GRB.MAXIMIZE)\n",
    "model.optimize()"
   ]
  },
  {
   "cell_type": "markdown",
   "id": "0e97c8ed",
   "metadata": {},
   "source": [
    "Using Cost 2"
   ]
  },
  {
   "cell_type": "code",
   "execution_count": 27,
   "id": "85e4f9cc",
   "metadata": {},
   "outputs": [
    {
     "name": "stdout",
     "output_type": "stream",
     "text": [
      "Gurobi Optimizer version 10.0.0 build v10.0.0rc2 (win64)\n",
      "\n",
      "CPU model: AMD Ryzen 7 5800U with Radeon Graphics, instruction set [SSE2|AVX|AVX2]\n",
      "Thread count: 8 physical cores, 16 logical processors, using up to 16 threads\n",
      "\n",
      "Optimize a model with 5 rows, 6 columns and 12 nonzeros\n",
      "Model fingerprint: 0x447832fa\n",
      "Coefficient statistics:\n",
      "  Matrix range     [1e+00, 1e+00]\n",
      "  Objective range  [3e+01, 4e+01]\n",
      "  Bounds range     [0e+00, 0e+00]\n",
      "  RHS range        [5e+00, 4e+01]\n",
      "Presolve time: 0.00s\n",
      "Presolved: 5 rows, 6 columns, 12 nonzeros\n",
      "\n",
      "Iteration    Objective       Primal Inf.    Dual Inf.      Time\n",
      "       0    1.7000000e+32   1.200000e+31   1.700000e+02      0s\n",
      "       5    1.0500000e+03   0.000000e+00   0.000000e+00      0s\n",
      "\n",
      "Solved in 5 iterations and 0.00 seconds (0.00 work units)\n",
      "Optimal objective  1.050000000e+03\n"
     ]
    }
   ],
   "source": [
    "# Maximise profit (revenue - cost(shipping cost from s to d))\n",
    "model.setObjective(transfer.prod(revenue) - transfer.prod(cost2), GRB.MAXIMIZE)\n",
    "model.optimize()"
   ]
  },
  {
   "cell_type": "markdown",
   "id": "93d7259c",
   "metadata": {},
   "source": [
    "Using Cost 3"
   ]
  },
  {
   "cell_type": "code",
   "execution_count": null,
   "id": "7e6c7934",
   "metadata": {
    "scrolled": true
   },
   "outputs": [],
   "source": [
    "# Maximise profit (revenue - cost(shipping cost from s to d))\n",
    "model.setObjective(transfer.prod(revenue) - transfer.prod(cost3), GRB.MAXIMIZE)\n",
    "model.optimize()"
   ]
  },
  {
   "cell_type": "code",
   "execution_count": 28,
   "id": "3635c542",
   "metadata": {},
   "outputs": [
    {
     "name": "stderr",
     "output_type": "stream",
     "text": [
      "C:\\Users\\priya\\AppData\\Local\\Temp\\ipykernel_40224\\1443657919.py:4: FutureWarning: The frame.append method is deprecated and will be removed from pandas in a future version. Use pandas.concat instead.\n",
      "  unit_transfer = unit_transfer.append({\"model_id\": 2,\n",
      "C:\\Users\\priya\\AppData\\Local\\Temp\\ipykernel_40224\\1443657919.py:4: FutureWarning: The frame.append method is deprecated and will be removed from pandas in a future version. Use pandas.concat instead.\n",
      "  unit_transfer = unit_transfer.append({\"model_id\": 2,\n",
      "C:\\Users\\priya\\AppData\\Local\\Temp\\ipykernel_40224\\1443657919.py:4: FutureWarning: The frame.append method is deprecated and will be removed from pandas in a future version. Use pandas.concat instead.\n",
      "  unit_transfer = unit_transfer.append({\"model_id\": 2,\n",
      "C:\\Users\\priya\\AppData\\Local\\Temp\\ipykernel_40224\\1443657919.py:4: FutureWarning: The frame.append method is deprecated and will be removed from pandas in a future version. Use pandas.concat instead.\n",
      "  unit_transfer = unit_transfer.append({\"model_id\": 2,\n",
      "C:\\Users\\priya\\AppData\\Local\\Temp\\ipykernel_40224\\1443657919.py:4: FutureWarning: The frame.append method is deprecated and will be removed from pandas in a future version. Use pandas.concat instead.\n",
      "  unit_transfer = unit_transfer.append({\"model_id\": 2,\n",
      "C:\\Users\\priya\\AppData\\Local\\Temp\\ipykernel_40224\\1443657919.py:4: FutureWarning: The frame.append method is deprecated and will be removed from pandas in a future version. Use pandas.concat instead.\n",
      "  unit_transfer = unit_transfer.append({\"model_id\": 2,\n"
     ]
    },
    {
     "data": {
      "text/html": [
       "<div>\n",
       "<style scoped>\n",
       "    .dataframe tbody tr th:only-of-type {\n",
       "        vertical-align: middle;\n",
       "    }\n",
       "\n",
       "    .dataframe tbody tr th {\n",
       "        vertical-align: top;\n",
       "    }\n",
       "\n",
       "    .dataframe thead th {\n",
       "        text-align: right;\n",
       "    }\n",
       "</style>\n",
       "<table border=\"1\" class=\"dataframe\">\n",
       "  <thead>\n",
       "    <tr style=\"text-align: right;\">\n",
       "      <th></th>\n",
       "      <th>model_id</th>\n",
       "      <th>path_name</th>\n",
       "      <th>surplus</th>\n",
       "      <th>deficit</th>\n",
       "      <th>transfer_units</th>\n",
       "      <th>profits</th>\n",
       "      <th>revenue</th>\n",
       "      <th>cost</th>\n",
       "    </tr>\n",
       "  </thead>\n",
       "  <tbody>\n",
       "    <tr>\n",
       "      <th></th>\n",
       "      <td>2</td>\n",
       "      <td>Seattle_Boise</td>\n",
       "      <td>Seattle</td>\n",
       "      <td>Boise</td>\n",
       "      <td>0.0</td>\n",
       "      <td>0.0</td>\n",
       "      <td>0.0</td>\n",
       "      <td>0.0</td>\n",
       "    </tr>\n",
       "    <tr>\n",
       "      <th></th>\n",
       "      <td>2</td>\n",
       "      <td>Seattle_Salt Lake</td>\n",
       "      <td>Seattle</td>\n",
       "      <td>Salt Lake</td>\n",
       "      <td>25.0</td>\n",
       "      <td>625.0</td>\n",
       "      <td>1000.0</td>\n",
       "      <td>375.0</td>\n",
       "    </tr>\n",
       "    <tr>\n",
       "      <th></th>\n",
       "      <td>2</td>\n",
       "      <td>Seattle_Los Angeles</td>\n",
       "      <td>Seattle</td>\n",
       "      <td>Los Angeles</td>\n",
       "      <td>5.0</td>\n",
       "      <td>125.0</td>\n",
       "      <td>200.0</td>\n",
       "      <td>75.0</td>\n",
       "    </tr>\n",
       "    <tr>\n",
       "      <th></th>\n",
       "      <td>2</td>\n",
       "      <td>San Francisco_Boise</td>\n",
       "      <td>San Francisco</td>\n",
       "      <td>Boise</td>\n",
       "      <td>5.0</td>\n",
       "      <td>175.0</td>\n",
       "      <td>200.0</td>\n",
       "      <td>25.0</td>\n",
       "    </tr>\n",
       "    <tr>\n",
       "      <th></th>\n",
       "      <td>2</td>\n",
       "      <td>San Francisco_Salt Lake</td>\n",
       "      <td>San Francisco</td>\n",
       "      <td>Salt Lake</td>\n",
       "      <td>0.0</td>\n",
       "      <td>0.0</td>\n",
       "      <td>0.0</td>\n",
       "      <td>0.0</td>\n",
       "    </tr>\n",
       "    <tr>\n",
       "      <th></th>\n",
       "      <td>2</td>\n",
       "      <td>San Francisco_Los Angeles</td>\n",
       "      <td>San Francisco</td>\n",
       "      <td>Los Angeles</td>\n",
       "      <td>5.0</td>\n",
       "      <td>125.0</td>\n",
       "      <td>200.0</td>\n",
       "      <td>75.0</td>\n",
       "    </tr>\n",
       "  </tbody>\n",
       "</table>\n",
       "</div>"
      ],
      "text/plain": [
       " model_id                  path_name        surplus      deficit  \\\n",
       "        2              Seattle_Boise        Seattle        Boise   \n",
       "        2          Seattle_Salt Lake        Seattle    Salt Lake   \n",
       "        2        Seattle_Los Angeles        Seattle  Los Angeles   \n",
       "        2        San Francisco_Boise  San Francisco        Boise   \n",
       "        2    San Francisco_Salt Lake  San Francisco    Salt Lake   \n",
       "        2  San Francisco_Los Angeles  San Francisco  Los Angeles   \n",
       "\n",
       " transfer_units profits revenue   cost  \n",
       "            0.0     0.0     0.0    0.0  \n",
       "           25.0   625.0  1000.0  375.0  \n",
       "            5.0   125.0   200.0   75.0  \n",
       "            5.0   175.0   200.0   25.0  \n",
       "            0.0     0.0     0.0    0.0  \n",
       "            5.0   125.0   200.0   75.0  "
      ]
     },
     "execution_count": 28,
     "metadata": {},
     "output_type": "execute_result"
    }
   ],
   "source": [
    "unit_transfer = pd.DataFrame(columns=[\"model_id\", \"path_name\", \"surplus\", \"deficit\", \"transfer_units\", \"profits\", \"revenue\",\"cost\"])\n",
    "for unit in units:\n",
    "    if transfer[unit].x >= 0:\n",
    "        unit_transfer = unit_transfer.append({\"model_id\": 2,              \n",
    "                                              \"path_name\" : unit[0] + \"_\" + unit[1],\n",
    "                                              \"surplus\": unit[0], \n",
    "                                              \"deficit\": unit[1], \n",
    "                                              \"transfer_units\": transfer[unit].x, \n",
    "                                             \"cost\": cost2[unit]*transfer[unit].x,\n",
    "                                             \"revenue\": revenue[unit]*transfer[unit].x,\n",
    "                                             \"profits\": (revenue[unit] - cost2[unit])*transfer[unit].x},\n",
    "                                             ignore_index=True)  \n",
    "unit_transfer.index=[''] * len(unit_transfer)\n",
    "unit_transfer"
   ]
  },
  {
   "cell_type": "code",
   "execution_count": null,
   "id": "b36fc67d",
   "metadata": {},
   "outputs": [],
   "source": [
    "# unit_transfer.to_csv(\"Model_2.csv\")"
   ]
  },
  {
   "cell_type": "code",
   "execution_count": null,
   "id": "d66f9b73",
   "metadata": {},
   "outputs": [],
   "source": []
  },
  {
   "cell_type": "code",
   "execution_count": null,
   "id": "1d34ee63",
   "metadata": {},
   "outputs": [],
   "source": []
  }
 ],
 "metadata": {
  "kernelspec": {
   "display_name": "Python 3 (ipykernel)",
   "language": "python",
   "name": "python3"
  },
  "language_info": {
   "codemirror_mode": {
    "name": "ipython",
    "version": 3
   },
   "file_extension": ".py",
   "mimetype": "text/x-python",
   "name": "python",
   "nbconvert_exporter": "python",
   "pygments_lexer": "ipython3",
   "version": "3.9.12"
  }
 },
 "nbformat": 4,
 "nbformat_minor": 5
}
